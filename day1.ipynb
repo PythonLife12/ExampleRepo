{
 "cells": [
  {
   "cell_type": "code",
   "execution_count": 121,
   "id": "8a40e9c3",
   "metadata": {},
   "outputs": [],
   "source": [
    "#Features, iNDIPENDENT VARIABLES, CHARACTERSTICS - INPUTS\n",
    "#CLASS, TARGET, DEPENTVARIABLE, - OUTPUTS \n",
    "\n",
    "\n",
    "\n",
    "# DATASET\n",
    "\n",
    "#inputs                           #oUPUTS\n",
    "# COUGHT | COLD | FEVER | HEADACHE | CLASS\n",
    "# YES      NO       YES   YES         POSTIVE\n",
    "# nO      NO       no   YES           NEAGTIBE\n",
    "\n",
    "\n",
    "# 5. Number of Instances/rows: 150 (50 in each of three classes)\n",
    "# 6. Number of Attributes/Columns: 4 numeric, predictive attributes and the class\n",
    "\n",
    "\n",
    "\n",
    "\n",
    "#Create and save a data\n",
    "\n",
    "import numpy as np\n",
    "import pandas as pd\n",
    "\n",
    "\n"
   ]
  },
  {
   "cell_type": "code",
   "execution_count": 122,
   "id": "ab35afea",
   "metadata": {},
   "outputs": [],
   "source": [
    "data = np.random.rand(10, 4)"
   ]
  },
  {
   "cell_type": "code",
   "execution_count": 123,
   "id": "1ce5afa3",
   "metadata": {},
   "outputs": [],
   "source": [
    "# data = {\n",
    "#     #Columnname : columnvalues\n",
    "#     \"key\" : \"values\"\n",
    "# }#Dictionaries\n",
    "\n",
    "data = { \n",
    "    #                        rows, column\n",
    "    \"Data1\" : np.random.rand(100),\n",
    "    \"Data2\" : np.random.randn(100), \n",
    "    \"Class\" : np.random.choice([\"yes\", \"No\", \"NOO\"], size=(100))\n",
    "}"
   ]
  },
  {
   "cell_type": "code",
   "execution_count": 124,
   "id": "6af49670",
   "metadata": {},
   "outputs": [],
   "source": [
    "dataframe = pd.DataFrame(data = data)"
   ]
  },
  {
   "cell_type": "code",
   "execution_count": 125,
   "id": "e7f0ed93",
   "metadata": {},
   "outputs": [
    {
     "data": {
      "text/html": [
       "<div>\n",
       "<style scoped>\n",
       "    .dataframe tbody tr th:only-of-type {\n",
       "        vertical-align: middle;\n",
       "    }\n",
       "\n",
       "    .dataframe tbody tr th {\n",
       "        vertical-align: top;\n",
       "    }\n",
       "\n",
       "    .dataframe thead th {\n",
       "        text-align: right;\n",
       "    }\n",
       "</style>\n",
       "<table border=\"1\" class=\"dataframe\">\n",
       "  <thead>\n",
       "    <tr style=\"text-align: right;\">\n",
       "      <th></th>\n",
       "      <th>Data1</th>\n",
       "      <th>Data2</th>\n",
       "      <th>Class</th>\n",
       "    </tr>\n",
       "  </thead>\n",
       "  <tbody>\n",
       "    <tr>\n",
       "      <th>0</th>\n",
       "      <td>0.416018</td>\n",
       "      <td>0.324799</td>\n",
       "      <td>No</td>\n",
       "    </tr>\n",
       "    <tr>\n",
       "      <th>1</th>\n",
       "      <td>0.313354</td>\n",
       "      <td>0.255461</td>\n",
       "      <td>NOO</td>\n",
       "    </tr>\n",
       "    <tr>\n",
       "      <th>2</th>\n",
       "      <td>0.297320</td>\n",
       "      <td>0.385437</td>\n",
       "      <td>NOO</td>\n",
       "    </tr>\n",
       "    <tr>\n",
       "      <th>3</th>\n",
       "      <td>0.689146</td>\n",
       "      <td>-1.252214</td>\n",
       "      <td>No</td>\n",
       "    </tr>\n",
       "    <tr>\n",
       "      <th>4</th>\n",
       "      <td>0.745850</td>\n",
       "      <td>-1.295870</td>\n",
       "      <td>yes</td>\n",
       "    </tr>\n",
       "    <tr>\n",
       "      <th>...</th>\n",
       "      <td>...</td>\n",
       "      <td>...</td>\n",
       "      <td>...</td>\n",
       "    </tr>\n",
       "    <tr>\n",
       "      <th>95</th>\n",
       "      <td>0.991164</td>\n",
       "      <td>-0.478405</td>\n",
       "      <td>NOO</td>\n",
       "    </tr>\n",
       "    <tr>\n",
       "      <th>96</th>\n",
       "      <td>0.985801</td>\n",
       "      <td>0.752848</td>\n",
       "      <td>No</td>\n",
       "    </tr>\n",
       "    <tr>\n",
       "      <th>97</th>\n",
       "      <td>0.223802</td>\n",
       "      <td>-0.767104</td>\n",
       "      <td>No</td>\n",
       "    </tr>\n",
       "    <tr>\n",
       "      <th>98</th>\n",
       "      <td>0.198506</td>\n",
       "      <td>1.173591</td>\n",
       "      <td>yes</td>\n",
       "    </tr>\n",
       "    <tr>\n",
       "      <th>99</th>\n",
       "      <td>0.471928</td>\n",
       "      <td>0.548633</td>\n",
       "      <td>NOO</td>\n",
       "    </tr>\n",
       "  </tbody>\n",
       "</table>\n",
       "<p>100 rows × 3 columns</p>\n",
       "</div>"
      ],
      "text/plain": [
       "       Data1     Data2 Class\n",
       "0   0.416018  0.324799    No\n",
       "1   0.313354  0.255461   NOO\n",
       "2   0.297320  0.385437   NOO\n",
       "3   0.689146 -1.252214    No\n",
       "4   0.745850 -1.295870   yes\n",
       "..       ...       ...   ...\n",
       "95  0.991164 -0.478405   NOO\n",
       "96  0.985801  0.752848    No\n",
       "97  0.223802 -0.767104    No\n",
       "98  0.198506  1.173591   yes\n",
       "99  0.471928  0.548633   NOO\n",
       "\n",
       "[100 rows x 3 columns]"
      ]
     },
     "execution_count": 125,
     "metadata": {},
     "output_type": "execute_result"
    }
   ],
   "source": [
    "dataframe"
   ]
  },
  {
   "cell_type": "code",
   "execution_count": 17,
   "id": "8709addc",
   "metadata": {},
   "outputs": [],
   "source": [
    "dataframe.to_csv(\"Example.csv\")"
   ]
  },
  {
   "cell_type": "code",
   "execution_count": 20,
   "id": "f1611741",
   "metadata": {},
   "outputs": [],
   "source": [
    "data = pd.read_csv(\"iris.csv\", names=['Sepalwidth', \"SpalLength\", \"PetalWidth\", \"PetalLength\", \"Class\"])"
   ]
  },
  {
   "cell_type": "code",
   "execution_count": 25,
   "id": "2e520b10",
   "metadata": {},
   "outputs": [
    {
     "data": {
      "text/html": [
       "<div>\n",
       "<style scoped>\n",
       "    .dataframe tbody tr th:only-of-type {\n",
       "        vertical-align: middle;\n",
       "    }\n",
       "\n",
       "    .dataframe tbody tr th {\n",
       "        vertical-align: top;\n",
       "    }\n",
       "\n",
       "    .dataframe thead th {\n",
       "        text-align: right;\n",
       "    }\n",
       "</style>\n",
       "<table border=\"1\" class=\"dataframe\">\n",
       "  <thead>\n",
       "    <tr style=\"text-align: right;\">\n",
       "      <th></th>\n",
       "      <th>Sepalwidth</th>\n",
       "      <th>SpalLength</th>\n",
       "      <th>PetalWidth</th>\n",
       "      <th>PetalLength</th>\n",
       "      <th>Class</th>\n",
       "    </tr>\n",
       "  </thead>\n",
       "  <tbody>\n",
       "    <tr>\n",
       "      <th>0</th>\n",
       "      <td>5.1</td>\n",
       "      <td>3.5</td>\n",
       "      <td>1.4</td>\n",
       "      <td>0.2</td>\n",
       "      <td>Iris-setosa</td>\n",
       "    </tr>\n",
       "  </tbody>\n",
       "</table>\n",
       "</div>"
      ],
      "text/plain": [
       "   Sepalwidth  SpalLength  PetalWidth  PetalLength        Class\n",
       "0         5.1         3.5         1.4          0.2  Iris-setosa"
      ]
     },
     "execution_count": 25,
     "metadata": {},
     "output_type": "execute_result"
    }
   ],
   "source": [
    "data.head(1)"
   ]
  },
  {
   "cell_type": "code",
   "execution_count": 27,
   "id": "f7173c11",
   "metadata": {},
   "outputs": [],
   "source": [
    "# data.describe()"
   ]
  },
  {
   "cell_type": "code",
   "execution_count": 30,
   "id": "54630b34",
   "metadata": {},
   "outputs": [],
   "source": [
    "# data.isna().sum()"
   ]
  },
  {
   "cell_type": "code",
   "execution_count": 34,
   "id": "64b1b15c",
   "metadata": {},
   "outputs": [],
   "source": [
    "# data['Sepalwidth'].plot()\n",
    "# data['SpalLength'].plot()"
   ]
  },
  {
   "cell_type": "code",
   "execution_count": 49,
   "id": "d39c8448",
   "metadata": {},
   "outputs": [
    {
     "data": {
      "text/plain": [
       "(4, 5)"
      ]
     },
     "execution_count": 49,
     "metadata": {},
     "output_type": "execute_result"
    }
   ],
   "source": [
    "#SeaBorn - HeatMap\n",
    "# 4, 5\n",
    "#0 rows\n",
    "#1 columns\n",
    "\n",
    "a=np.round(np.random.rand(4,5), 2)\n",
    "a.shape"
   ]
  },
  {
   "cell_type": "code",
   "execution_count": 52,
   "id": "34c8f5a9",
   "metadata": {},
   "outputs": [],
   "source": [
    "import seaborn as sns"
   ]
  },
  {
   "cell_type": "code",
   "execution_count": 62,
   "id": "980b6744",
   "metadata": {},
   "outputs": [],
   "source": [
    "#heatmap\n",
    "\n",
    "# sns.heatmap(a, annot=True, cmap=\"Blues\")"
   ]
  },
  {
   "cell_type": "code",
   "execution_count": 92,
   "id": "76be7559",
   "metadata": {},
   "outputs": [],
   "source": [
    "#                     rows, columns\n",
    "# data_ = dataframe.iloc[1:10, 0:3].values"
   ]
  },
  {
   "cell_type": "code",
   "execution_count": 95,
   "id": "a6d5638a",
   "metadata": {},
   "outputs": [],
   "source": [
    "# type(data_)"
   ]
  },
  {
   "cell_type": "code",
   "execution_count": 114,
   "id": "3a4074a7",
   "metadata": {},
   "outputs": [],
   "source": [
    "datareplace = dataframe['Class'].str.replace(\"NOO\", \"No\")"
   ]
  },
  {
   "cell_type": "code",
   "execution_count": 115,
   "id": "d184a0fd",
   "metadata": {},
   "outputs": [
    {
     "data": {
      "text/plain": [
       "Counter({'No': 66, 'yes': 34})"
      ]
     },
     "execution_count": 115,
     "metadata": {},
     "output_type": "execute_result"
    }
   ],
   "source": [
    "from collections import Counter\n",
    "Counter(datareplace)"
   ]
  },
  {
   "cell_type": "code",
   "execution_count": 128,
   "id": "e3681ad4",
   "metadata": {},
   "outputs": [],
   "source": [
    "# for i, val in enumerate(dataframe['Class']):\n",
    "# #     print(i, val)\n",
    "#     if val == \"NOO\":\n",
    "#         dataframe['Class'][i] = \"No\"\n",
    "#     else:\n",
    "#         pass"
   ]
  },
  {
   "cell_type": "code",
   "execution_count": 127,
   "id": "5e407dc6",
   "metadata": {},
   "outputs": [
    {
     "data": {
      "text/plain": [
       "Counter({'No': 72, 'yes': 28})"
      ]
     },
     "execution_count": 127,
     "metadata": {},
     "output_type": "execute_result"
    }
   ],
   "source": [
    "# from collections import Counter\n",
    "# Counter(dataframe['Class'])"
   ]
  },
  {
   "cell_type": "code",
   "execution_count": 137,
   "id": "d7c8e48b",
   "metadata": {},
   "outputs": [],
   "source": [
    "# lambda singleton function\n",
    "\n",
    "# array = np.array([[1, 2, 3, 4],\n",
    "#                   [2, 3, 4, 5]], dtype=\"i\")"
   ]
  },
  {
   "cell_type": "code",
   "execution_count": 140,
   "id": "8435563e",
   "metadata": {},
   "outputs": [
    {
     "data": {
      "text/plain": [
       "array([[1., 2., 3., 4.],\n",
       "       [2., 3., 4., 5.]], dtype=float32)"
      ]
     },
     "execution_count": 140,
     "metadata": {},
     "output_type": "execute_result"
    }
   ],
   "source": [
    "# array.astype(\"f\")"
   ]
  },
  {
   "cell_type": "code",
   "execution_count": 162,
   "id": "a4c92000",
   "metadata": {},
   "outputs": [],
   "source": [
    "# aaa = lambda a : a**2\n",
    "# # li = [aaa(i) for i in range(10)]\n",
    "# aaa(100, 20)"
   ]
  },
  {
   "cell_type": "code",
   "execution_count": null,
   "id": "b8538145",
   "metadata": {},
   "outputs": [],
   "source": [
    "# Creating the data with numpy\n",
    "# save local drive \n",
    "# Handling MIssing data replace 1 or 0, str replace \n",
    "# Manipulation of the data\n",
    "#     droping, adding, multipying, adding, sub, div\n",
    "# Visualizing the data by using different matplotlib"
   ]
  },
  {
   "cell_type": "code",
   "execution_count": 163,
   "id": "0fc38b81",
   "metadata": {},
   "outputs": [],
   "source": [
    "data_ = {\n",
    "    \"missingvalues\" : [np.nan, 1, 2, 3, 4, np.nan]\n",
    "}"
   ]
  },
  {
   "cell_type": "code",
   "execution_count": 164,
   "id": "197a45ea",
   "metadata": {},
   "outputs": [],
   "source": [
    "data__ = pd.DataFrame(data=data_)"
   ]
  },
  {
   "cell_type": "code",
   "execution_count": 170,
   "id": "bfc0243f",
   "metadata": {},
   "outputs": [],
   "source": [
    "newcol = [1, 2, 3, 4, 5, 6]"
   ]
  },
  {
   "cell_type": "code",
   "execution_count": 174,
   "id": "0c0c3efb",
   "metadata": {},
   "outputs": [],
   "source": [
    "newcol2 = [2, 3, 1, 4, 2, 5]"
   ]
  },
  {
   "cell_type": "code",
   "execution_count": 175,
   "id": "62108cfb",
   "metadata": {},
   "outputs": [],
   "source": [
    "data__['newcol'] = newcol\n",
    "data__['newcol2'] = newcol2"
   ]
  },
  {
   "cell_type": "code",
   "execution_count": 177,
   "id": "084a4433",
   "metadata": {},
   "outputs": [],
   "source": [
    "data__['added'] = data__['newcol'] + data__['newcol2']"
   ]
  },
  {
   "cell_type": "code",
   "execution_count": 178,
   "id": "5d8b2265",
   "metadata": {},
   "outputs": [
    {
     "data": {
      "text/html": [
       "<div>\n",
       "<style scoped>\n",
       "    .dataframe tbody tr th:only-of-type {\n",
       "        vertical-align: middle;\n",
       "    }\n",
       "\n",
       "    .dataframe tbody tr th {\n",
       "        vertical-align: top;\n",
       "    }\n",
       "\n",
       "    .dataframe thead th {\n",
       "        text-align: right;\n",
       "    }\n",
       "</style>\n",
       "<table border=\"1\" class=\"dataframe\">\n",
       "  <thead>\n",
       "    <tr style=\"text-align: right;\">\n",
       "      <th></th>\n",
       "      <th>missingvalues</th>\n",
       "      <th>newcol</th>\n",
       "      <th>newcol2</th>\n",
       "      <th>added</th>\n",
       "    </tr>\n",
       "  </thead>\n",
       "  <tbody>\n",
       "    <tr>\n",
       "      <th>0</th>\n",
       "      <td>NaN</td>\n",
       "      <td>1</td>\n",
       "      <td>2</td>\n",
       "      <td>3</td>\n",
       "    </tr>\n",
       "    <tr>\n",
       "      <th>1</th>\n",
       "      <td>1.0</td>\n",
       "      <td>2</td>\n",
       "      <td>3</td>\n",
       "      <td>5</td>\n",
       "    </tr>\n",
       "    <tr>\n",
       "      <th>2</th>\n",
       "      <td>2.0</td>\n",
       "      <td>3</td>\n",
       "      <td>1</td>\n",
       "      <td>4</td>\n",
       "    </tr>\n",
       "    <tr>\n",
       "      <th>3</th>\n",
       "      <td>3.0</td>\n",
       "      <td>4</td>\n",
       "      <td>4</td>\n",
       "      <td>8</td>\n",
       "    </tr>\n",
       "    <tr>\n",
       "      <th>4</th>\n",
       "      <td>4.0</td>\n",
       "      <td>5</td>\n",
       "      <td>2</td>\n",
       "      <td>7</td>\n",
       "    </tr>\n",
       "    <tr>\n",
       "      <th>5</th>\n",
       "      <td>NaN</td>\n",
       "      <td>6</td>\n",
       "      <td>5</td>\n",
       "      <td>11</td>\n",
       "    </tr>\n",
       "  </tbody>\n",
       "</table>\n",
       "</div>"
      ],
      "text/plain": [
       "   missingvalues  newcol  newcol2  added\n",
       "0            NaN       1        2      3\n",
       "1            1.0       2        3      5\n",
       "2            2.0       3        1      4\n",
       "3            3.0       4        4      8\n",
       "4            4.0       5        2      7\n",
       "5            NaN       6        5     11"
      ]
     },
     "execution_count": 178,
     "metadata": {},
     "output_type": "execute_result"
    }
   ],
   "source": [
    "data__"
   ]
  },
  {
   "cell_type": "code",
   "execution_count": 180,
   "id": "fcedb280",
   "metadata": {},
   "outputs": [
    {
     "ename": "TypeError",
     "evalue": "unsupported operand type(s) for +: 'int' and 'str'",
     "output_type": "error",
     "traceback": [
      "\u001b[1;31m---------------------------------------------------------------------------\u001b[0m",
      "\u001b[1;31mTypeError\u001b[0m                                 Traceback (most recent call last)",
      "\u001b[1;32m<ipython-input-180-ad00a579a1db>\u001b[0m in \u001b[0;36m<module>\u001b[1;34m\u001b[0m\n\u001b[0;32m      1\u001b[0m \u001b[0mda\u001b[0m\u001b[1;33m=\u001b[0m\u001b[1;36m2\u001b[0m\u001b[1;33m\u001b[0m\u001b[1;33m\u001b[0m\u001b[0m\n\u001b[0;32m      2\u001b[0m \u001b[0mdd\u001b[0m \u001b[1;33m=\u001b[0m \u001b[1;36m3\u001b[0m\u001b[1;33m\u001b[0m\u001b[1;33m\u001b[0m\u001b[0m\n\u001b[1;32m----> 3\u001b[1;33m \u001b[0mdf\u001b[0m \u001b[1;33m=\u001b[0m \u001b[1;36m4\u001b[0m \u001b[1;33m+\u001b[0m \u001b[1;34m\"a\"\u001b[0m\u001b[1;33m\u001b[0m\u001b[1;33m\u001b[0m\u001b[0m\n\u001b[0m\u001b[0;32m      4\u001b[0m \u001b[1;33m\u001b[0m\u001b[0m\n\u001b[0;32m      5\u001b[0m \u001b[0mprint\u001b[0m\u001b[1;33m(\u001b[0m\u001b[0mdf\u001b[0m\u001b[1;33m)\u001b[0m\u001b[1;33m\u001b[0m\u001b[1;33m\u001b[0m\u001b[0m\n",
      "\u001b[1;31mTypeError\u001b[0m: unsupported operand type(s) for +: 'int' and 'str'"
     ]
    }
   ],
   "source": [
    "da=2\n",
    "dd = 3\n",
    "df = 4 + \"a\"\n",
    "\n",
    "print(df)"
   ]
  },
  {
   "cell_type": "code",
   "execution_count": 26,
   "id": "969c530e",
   "metadata": {},
   "outputs": [],
   "source": [
    "# a = (i for i in range(10))"
   ]
  },
  {
   "cell_type": "code",
   "execution_count": 28,
   "id": "3ec4a3c6",
   "metadata": {},
   "outputs": [],
   "source": [
    "# print(a)\n",
    "# print(list(a))\n",
    "# next(a)\n",
    "# next(a)\n",
    "# next(a)"
   ]
  },
  {
   "cell_type": "code",
   "execution_count": null,
   "id": "b9dba16f",
   "metadata": {},
   "outputs": [],
   "source": []
  },
  {
   "cell_type": "code",
   "execution_count": null,
   "id": "dfbf0d5f",
   "metadata": {},
   "outputs": [],
   "source": []
  }
 ],
 "metadata": {
  "kernelspec": {
   "display_name": "Python 3",
   "language": "python",
   "name": "python3"
  },
  "language_info": {
   "codemirror_mode": {
    "name": "ipython",
    "version": 3
   },
   "file_extension": ".py",
   "mimetype": "text/x-python",
   "name": "python",
   "nbconvert_exporter": "python",
   "pygments_lexer": "ipython3",
   "version": "3.7.10"
  }
 },
 "nbformat": 4,
 "nbformat_minor": 5
}
